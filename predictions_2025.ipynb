{
 "cells": [
  {
   "cell_type": "markdown",
   "metadata": {},
   "source": [
    "# Predictions for 2025 based on most successful model"
   ]
  },
  {
   "cell_type": "code",
   "execution_count": 5,
   "metadata": {},
   "outputs": [],
   "source": [
    "import utils\n",
    "import pandas as pd\n",
    "import torch\n",
    "from torch import nn\n",
    "from torch.utils.data import TensorDataset, DataLoader\n",
    "from sklearn.model_selection import train_test_split\n",
    "from sklearn.preprocessing import StandardScaler"
   ]
  },
  {
   "cell_type": "code",
   "execution_count": 6,
   "metadata": {},
   "outputs": [],
   "source": [
    "# load data\n",
    "data = pd.read_csv('full_data.csv')"
   ]
  },
  {
   "cell_type": "code",
   "execution_count": 7,
   "metadata": {},
   "outputs": [
    {
     "name": "stdout",
     "output_type": "stream",
     "text": [
      "Using cpu device\n"
     ]
    }
   ],
   "source": [
    "# get cpu, gpu or mps device for training.\n",
    "device = (\n",
    "    \"cuda\"\n",
    "    if torch.cuda.is_available()\n",
    "    else \"mps\"\n",
    "    if torch.backends.mps.is_available()\n",
    "    else \"cpu\"\n",
    ")\n",
    "print(f\"Using {device} device\")"
   ]
  },
  {
   "cell_type": "code",
   "execution_count": null,
   "metadata": {},
   "outputs": [
    {
     "data": {
      "text/plain": [
       "<All keys matched successfully>"
      ]
     },
     "execution_count": 8,
     "metadata": {},
     "output_type": "execute_result"
    }
   ],
   "source": [
    "# load model\n",
    "model_path = \"models/model_3.pth\"\n",
    "model = utils.RegressionModel(14).to(device)\n",
    "model.load_state_dict(torch.load(model_path))"
   ]
  },
  {
   "cell_type": "code",
   "execution_count": 9,
   "metadata": {},
   "outputs": [],
   "source": [
    "# generate predictions from model\n",
    "preds_2025 = pd.DataFrame({'Name': [], '2024 Plate Appearances': [], '2024 wRC+': [], '2025 Predicted wRC+': []})\n",
    "\n",
    "data_2024 = data.loc[data['Season'] == 2024]\n",
    "\n",
    "feature_columns = ['Age', 'wRC+', 'EV', 'LA', 'Barrel%', 'HardHit%', \n",
    "                   'BABIP', 'LD%', 'GB%', 'FB%', 'IFFB%', 'Pull%', 'Cent%', 'Oppo%']\n",
    "\n",
    "# scale the features\n",
    "scaler = StandardScaler()\n",
    "scaled_features = scaler.fit_transform(data_2024[feature_columns])\n",
    "\n",
    "# sterate through the scaled data and generate predictions\n",
    "for index, (row, scaled_row) in enumerate(zip(data_2024.iterrows(), scaled_features)):\n",
    "    row_data = row[1]\n",
    "    pred_input = torch.tensor(scaled_row, dtype=torch.float32)\n",
    "\n",
    "    pred_value = model(pred_input).item()\n",
    "    \n",
    "    pred = pd.DataFrame({\n",
    "        'Name': [row_data['Name']], \n",
    "        '2024 Plate Appearances': [row_data['PA']],\n",
    "        '2024 wRC+': [row_data['wRC+']],\n",
    "        '2025 Predicted wRC+': [pred_value]\n",
    "    })\n",
    "    preds_2025 = pd.concat([preds_2025, pred], ignore_index=True)"
   ]
  },
  {
   "cell_type": "code",
   "execution_count": 10,
   "metadata": {},
   "outputs": [],
   "source": [
    "# save predictions\n",
    "preds_2025.to_csv('preds_2025.csv', index=False)\n",
    "preds_2025.to_excel('preds_2025.xlsx', index=False)"
   ]
  }
 ],
 "metadata": {
  "kernelspec": {
   "display_name": "base",
   "language": "python",
   "name": "python3"
  },
  "language_info": {
   "codemirror_mode": {
    "name": "ipython",
    "version": 3
   },
   "file_extension": ".py",
   "mimetype": "text/x-python",
   "name": "python",
   "nbconvert_exporter": "python",
   "pygments_lexer": "ipython3",
   "version": "3.12.7"
  }
 },
 "nbformat": 4,
 "nbformat_minor": 2
}
